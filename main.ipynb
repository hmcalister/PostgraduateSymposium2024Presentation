{
 "cells": [
  {
   "cell_type": "code",
   "execution_count": 4,
   "metadata": {},
   "outputs": [],
   "source": [
    "import matplotlib as mpl\n",
    "import matplotlib.pyplot as plt\n",
    "from ipywidgets import *\n",
    "import numpy as np\n",
    "\n",
    "mpl.rcParams['figure.figsize'] = (10, 10)\n",
    "mpl.rcParams['lines.linewidth'] = 5"
   ]
  },
  {
   "cell_type": "markdown",
   "metadata": {},
   "source": [
    "# Energy Wells"
   ]
  },
  {
   "cell_type": "code",
   "execution_count": 5,
   "metadata": {},
   "outputs": [],
   "source": [
    "N_POINTS = 1000\n",
    "X = np.linspace(-5,5,1000)\n",
    "\n",
    "def gaussian(X, mu, sigma):\n",
    "    return 1/(sigma* np.sqrt(2*np.pi)) * np.exp(-0.5 * ((X-mu)/sigma)**2)\n",
    "\n",
    "def f(sigma):\n",
    "    y = gaussian(X, -2, sigma) + gaussian(X, +2, sigma)\n",
    "    y *= -1\n",
    "    return (y - np.min(y)) / (np.max(y) - np.min(y))\n",
    "\n",
    "def newPlot():\n",
    "    plt.figure()\n",
    "    plt.axis(\"off\")\n",
    "    plt.xticks([],[])\n",
    "    plt.yticks([],[])\n",
    "    plt.xlim(-5,5)\n",
    "\n",
    "newPlot()\n",
    "plt.plot(X, -gaussian(X, 0, 1.5))\n",
    "plt.tight_layout()\n",
    "plt.savefig(\"images/introduction_energywell01.png\")\n",
    "plt.close();\n",
    "\n",
    "newPlot()\n",
    "plt.plot(X, f(1.5))\n",
    "plt.tight_layout()\n",
    "plt.savefig(\"images/introduction_energywell02.png\")\n",
    "plt.close();\n",
    "\n",
    "newPlot()\n",
    "plt.plot(X, f(1.5))\n",
    "plt.plot(X, f(0.5))\n",
    "plt.tight_layout()\n",
    "plt.savefig(\"images/introduction_energywell03.png\")\n",
    "plt.close();\n"
   ]
  },
  {
   "cell_type": "markdown",
   "metadata": {},
   "source": [
    "# Gridsearch Data"
   ]
  },
  {
   "cell_type": "code",
   "execution_count": 34,
   "metadata": {},
   "outputs": [
    {
     "ename": "ValueError",
     "evalue": "minvalue must be less than or equal to maxvalue",
     "output_type": "error",
     "traceback": [
      "\u001b[0;31m---------------------------------------------------------------------------\u001b[0m",
      "\u001b[0;31mValueError\u001b[0m                                Traceback (most recent call last)",
      "Cell \u001b[0;32mIn [34], line 23\u001b[0m\n\u001b[1;32m     21\u001b[0m \u001b[38;5;66;03m# norm = mpl.colors.Normalize(0, 1.0)\u001b[39;00m\n\u001b[1;32m     22\u001b[0m colorMappable \u001b[38;5;241m=\u001b[39m mpl\u001b[38;5;241m.\u001b[39mcm\u001b[38;5;241m.\u001b[39mScalarMappable(norm, cmap)\n\u001b[0;32m---> 23\u001b[0m Z \u001b[38;5;241m=\u001b[39m \u001b[43mcolorMappable\u001b[49m\u001b[38;5;241;43m.\u001b[39;49m\u001b[43mto_rgba\u001b[49m\u001b[43m(\u001b[49m\u001b[43mZ\u001b[49m\u001b[43m)\u001b[49m\n\u001b[1;32m     25\u001b[0m plt\u001b[38;5;241m.\u001b[39mfigure(figsize\u001b[38;5;241m=\u001b[39m(\u001b[38;5;241m8\u001b[39m,\u001b[38;5;241m8\u001b[39m))\n\u001b[1;32m     26\u001b[0m plt\u001b[38;5;241m.\u001b[39mscatter(X, Y, c\u001b[38;5;241m=\u001b[39mZ, marker\u001b[38;5;241m=\u001b[39m\u001b[38;5;124m\"\u001b[39m\u001b[38;5;124ms\u001b[39m\u001b[38;5;124m\"\u001b[39m, s\u001b[38;5;241m=\u001b[39m\u001b[38;5;241m100\u001b[39m)\n",
      "File \u001b[0;32m~/miniconda3/lib/python3.10/site-packages/matplotlib/cm.py:513\u001b[0m, in \u001b[0;36mScalarMappable.to_rgba\u001b[0;34m(self, x, alpha, bytes, norm)\u001b[0m\n\u001b[1;32m    511\u001b[0m x \u001b[38;5;241m=\u001b[39m ma\u001b[38;5;241m.\u001b[39masarray(x)\n\u001b[1;32m    512\u001b[0m \u001b[38;5;28;01mif\u001b[39;00m norm:\n\u001b[0;32m--> 513\u001b[0m     x \u001b[38;5;241m=\u001b[39m \u001b[38;5;28;43mself\u001b[39;49m\u001b[38;5;241;43m.\u001b[39;49m\u001b[43mnorm\u001b[49m\u001b[43m(\u001b[49m\u001b[43mx\u001b[49m\u001b[43m)\u001b[49m\n\u001b[1;32m    514\u001b[0m rgba \u001b[38;5;241m=\u001b[39m \u001b[38;5;28mself\u001b[39m\u001b[38;5;241m.\u001b[39mcmap(x, alpha\u001b[38;5;241m=\u001b[39malpha, \u001b[38;5;28mbytes\u001b[39m\u001b[38;5;241m=\u001b[39m\u001b[38;5;28mbytes\u001b[39m)\n\u001b[1;32m    515\u001b[0m \u001b[38;5;28;01mreturn\u001b[39;00m rgba\n",
      "File \u001b[0;32m~/miniconda3/lib/python3.10/site-packages/matplotlib/colors.py:1362\u001b[0m, in \u001b[0;36mNormalize.__call__\u001b[0;34m(self, value, clip)\u001b[0m\n\u001b[1;32m   1360\u001b[0m     result\u001b[38;5;241m.\u001b[39mfill(\u001b[38;5;241m0\u001b[39m)  \u001b[38;5;66;03m# Or should it be all masked?  Or 0.5?\u001b[39;00m\n\u001b[1;32m   1361\u001b[0m \u001b[38;5;28;01melif\u001b[39;00m vmin \u001b[38;5;241m>\u001b[39m vmax:\n\u001b[0;32m-> 1362\u001b[0m     \u001b[38;5;28;01mraise\u001b[39;00m \u001b[38;5;167;01mValueError\u001b[39;00m(\u001b[38;5;124m\"\u001b[39m\u001b[38;5;124mminvalue must be less than or equal to maxvalue\u001b[39m\u001b[38;5;124m\"\u001b[39m)\n\u001b[1;32m   1363\u001b[0m \u001b[38;5;28;01melse\u001b[39;00m:\n\u001b[1;32m   1364\u001b[0m     \u001b[38;5;28;01mif\u001b[39;00m clip:\n",
      "\u001b[0;31mValueError\u001b[0m: minvalue must be less than or equal to maxvalue"
     ]
    }
   ],
   "source": [
    "import matplotlib.pyplot as plt\n",
    "import matplotlib as mpl\n",
    "import numpy as np\n",
    "\n",
    "X = np.logspace(-3, 1, base=10, num=20)\n",
    "Y = np.logspace(-2, 2, base=10, num=20)\n",
    "X, Y = np.meshgrid(X,Y)\n",
    "\n",
    "A = np.linspace(0,1,num=20)\n",
    "B = np.linspace(0,1,num=20)\n",
    "A, B = np.meshgrid(A,B)\n",
    "\n",
    "def f(x,y):\n",
    "    return np.clip(0.6*(x-0.7)**2 + 0.3*(y-0.8)**2, 0, 1)\n",
    "Z = f(A,B)\n",
    "\n",
    "X, Y, Z = X.flatten(), Y.flatten(), Z.flatten()\n",
    "\n",
    "cmap = mpl.colormaps[\"viridis\"]\n",
    "norm = mpl.colors.Normalize(0, np.max(Z))\n",
    "# norm = mpl.colors.Normalize(0, 1.0)\n",
    "colorMappable = mpl.cm.ScalarMappable(norm, cmap)\n",
    "Z = colorMappable.to_rgba(Z)\n",
    "\n",
    "plt.figure(figsize=(8,8))\n",
    "plt.scatter(X, Y, c=Z, marker=\"s\", s=100)\n",
    "plt.xscale(\"log\")\n",
    "plt.yscale(\"log\")\n",
    "plt.xlabel(\"Learning Rate\")\n",
    "plt.ylabel(\"Beta\")\n",
    "plt.colorbar(mappable=colorMappable, ax=plt.gca())\n",
    "plt.title(f\"\")\n",
    "plt.show();"
   ]
  }
 ],
 "metadata": {
  "kernelspec": {
   "display_name": "base",
   "language": "python",
   "name": "python3"
  },
  "language_info": {
   "codemirror_mode": {
    "name": "ipython",
    "version": 3
   },
   "file_extension": ".py",
   "mimetype": "text/x-python",
   "name": "python",
   "nbconvert_exporter": "python",
   "pygments_lexer": "ipython3",
   "version": "3.10.8"
  }
 },
 "nbformat": 4,
 "nbformat_minor": 2
}
