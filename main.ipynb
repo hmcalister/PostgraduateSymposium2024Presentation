{
 "cells": [
  {
   "cell_type": "code",
   "execution_count": 4,
   "metadata": {},
   "outputs": [],
   "source": [
    "import matplotlib as mpl\n",
    "import matplotlib.pyplot as plt\n",
    "from ipywidgets import *\n",
    "import numpy as np\n",
    "\n",
    "mpl.rcParams['figure.figsize'] = (10, 10)\n",
    "mpl.rcParams['lines.linewidth'] = 5"
   ]
  },
  {
   "cell_type": "markdown",
   "metadata": {},
   "source": [
    "# Energy Wells"
   ]
  },
  {
   "cell_type": "code",
   "execution_count": 5,
   "metadata": {},
   "outputs": [],
   "source": [
    "N_POINTS = 1000\n",
    "X = np.linspace(-5,5,1000)\n",
    "\n",
    "def gaussian(X, mu, sigma):\n",
    "    return 1/(sigma* np.sqrt(2*np.pi)) * np.exp(-0.5 * ((X-mu)/sigma)**2)\n",
    "\n",
    "def f(sigma):\n",
    "    y = gaussian(X, -2, sigma) + gaussian(X, +2, sigma)\n",
    "    y *= -1\n",
    "    return (y - np.min(y)) / (np.max(y) - np.min(y))\n",
    "\n",
    "def newPlot():\n",
    "    plt.figure()\n",
    "    plt.axis(\"off\")\n",
    "    plt.xticks([],[])\n",
    "    plt.yticks([],[])\n",
    "    plt.xlim(-5,5)\n",
    "\n",
    "newPlot()\n",
    "plt.plot(X, -gaussian(X, 0, 1.5))\n",
    "plt.tight_layout()\n",
    "plt.savefig(\"images/introduction_energywell01.png\")\n",
    "plt.close();\n",
    "\n",
    "newPlot()\n",
    "plt.plot(X, f(1.5))\n",
    "plt.tight_layout()\n",
    "plt.savefig(\"images/introduction_energywell02.png\")\n",
    "plt.close();\n",
    "\n",
    "newPlot()\n",
    "plt.plot(X, f(1.5))\n",
    "plt.plot(X, f(0.5))\n",
    "plt.tight_layout()\n",
    "plt.savefig(\"images/introduction_energywell03.png\")\n",
    "plt.close();\n"
   ]
  }
 ],
 "metadata": {
  "kernelspec": {
   "display_name": "base",
   "language": "python",
   "name": "python3"
  },
  "language_info": {
   "codemirror_mode": {
    "name": "ipython",
    "version": 3
   },
   "file_extension": ".py",
   "mimetype": "text/x-python",
   "name": "python",
   "nbconvert_exporter": "python",
   "pygments_lexer": "ipython3",
   "version": "3.10.8"
  }
 },
 "nbformat": 4,
 "nbformat_minor": 2
}
